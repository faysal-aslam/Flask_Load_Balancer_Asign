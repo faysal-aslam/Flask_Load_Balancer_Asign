{
 "cells": [
  {
   "cell_type": "code",
   "execution_count": 12,
   "id": "4e3df43b",
   "metadata": {},
   "outputs": [
    {
     "name": "stdout",
     "output_type": "stream",
     "text": [
      " * Serving Flask app '__main__'\n",
      " * Debug mode: off\n"
     ]
    },
    {
     "name": "stderr",
     "output_type": "stream",
     "text": [
      "WARNING: This is a development server. Do not use it in a production deployment. Use a production WSGI server instead.\n",
      " * Running on all addresses (0.0.0.0)\n",
      " * Running on http://127.0.0.1:5000\n",
      " * Running on http://192.168.10.50:5000\n",
      "Press CTRL+C to quit\n",
      "127.0.0.1 - - [10/Apr/2023 15:27:00] \"GET /get_loaded_models HTTP/1.1\" 200 -\n",
      "127.0.0.1 - - [10/Apr/2023 15:27:00] \"POST /process_request HTTP/1.1\" 200 -\n",
      "127.0.0.1 - - [10/Apr/2023 15:27:00] \"GET /get_loaded_models HTTP/1.1\" 200 -\n",
      "127.0.0.1 - - [10/Apr/2023 15:27:00] \"POST /process_request HTTP/1.1\" 200 -\n",
      "127.0.0.1 - - [10/Apr/2023 15:27:00] \"GET /get_loaded_models HTTP/1.1\" 200 -\n",
      "127.0.0.1 - - [10/Apr/2023 15:27:00] \"POST /process_request HTTP/1.1\" 200 -\n",
      "127.0.0.1 - - [10/Apr/2023 15:27:00] \"GET /get_loaded_models HTTP/1.1\" 200 -\n",
      "127.0.0.1 - - [10/Apr/2023 15:27:00] \"POST /process_request HTTP/1.1\" 200 -\n",
      "127.0.0.1 - - [10/Apr/2023 15:27:00] \"GET /get_loaded_models HTTP/1.1\" 200 -\n",
      "127.0.0.1 - - [10/Apr/2023 15:27:00] \"POST /process_request HTTP/1.1\" 200 -\n",
      "127.0.0.1 - - [10/Apr/2023 15:27:00] \"GET /get_loaded_models HTTP/1.1\" 200 -\n",
      "127.0.0.1 - - [10/Apr/2023 15:27:00] \"POST /process_request HTTP/1.1\" 200 -\n",
      "127.0.0.1 - - [10/Apr/2023 15:27:00] \"GET /get_loaded_models HTTP/1.1\" 200 -\n",
      "127.0.0.1 - - [10/Apr/2023 15:27:00] \"POST /process_request HTTP/1.1\" 200 -\n",
      "127.0.0.1 - - [10/Apr/2023 15:27:00] \"GET /get_loaded_models HTTP/1.1\" 200 -\n",
      "127.0.0.1 - - [10/Apr/2023 15:27:00] \"POST /process_request HTTP/1.1\" 200 -\n",
      "127.0.0.1 - - [10/Apr/2023 15:27:00] \"GET /get_loaded_models HTTP/1.1\" 200 -\n",
      "127.0.0.1 - - [10/Apr/2023 15:27:00] \"POST /process_request HTTP/1.1\" 200 -\n",
      "127.0.0.1 - - [10/Apr/2023 15:27:00] \"GET /get_loaded_models HTTP/1.1\" 200 -\n",
      "127.0.0.1 - - [10/Apr/2023 15:27:00] \"POST /process_request HTTP/1.1\" 200 -\n"
     ]
    }
   ],
   "source": [
    "from flask import Flask , request\n",
    "\n",
    "class ML:\n",
    "    def __init__(self):\n",
    "        self.avaliable_models = {\n",
    "            \"face_detection\": \"/additional_drive/ML/face_detection\",\n",
    "            \"car_detection\": \"/additional_drive/ML/car_detection\",\n",
    "            \"shoe_detection\": \"/additional_drive/ML/shoe_detection\",\n",
    "            \"cloth_detection\": \"/additional_drive/ML/cloth_detection\",\n",
    "            \"signal_detection\": \"/additional_drive/ML/signal_detection\",\n",
    "            \"water_level_detection\": \"/additional_drive/ML/water_level_detection\",\n",
    "            \"missile_detection\": \"/additional_drive/ML/missile_detection\"\n",
    "        }\n",
    "        self.loaded_models_limit = 2\n",
    "        self.loaded_models = {\n",
    "            model: {\"path\": self.load_weights(model), \"requests\": 0}\n",
    "            for model in list(self.avaliable_models)[:self.loaded_models_limit]\n",
    "        }\n",
    "\n",
    "    def load_weights(self, model):\n",
    "        return self.avaliable_models.get(model,None)\n",
    "\n",
    "    def load_balancer(self, new_model):\n",
    "        model_requests = [(model, data[\"requests\"]) for model, data in self.loaded_models.items()]\n",
    "        least_used_model, least_used_model_requests = min(model_requests, key=lambda x: x[1])\n",
    "        self.loaded_models.pop(least_used_model)\n",
    "        self.loaded_models[new_model] = {\"path\": self.load_weights(new_model), \"requests\": least_used_model_requests}\n",
    "        \n",
    "    def increment_requests(self, model):\n",
    "        self.loaded_models[model][\"requests\"] += 1\n",
    "\n",
    "\n",
    "app = Flask(__name__)\n",
    "ml = ML()\n",
    "\n",
    "@app.route('/get_loaded_models', methods=['GET', 'POST'])\n",
    "def get_loaded_models():\n",
    "    return ml.loaded_models\n",
    "\n",
    "@app.route('/process_request', methods=['GET', 'POST'])\n",
    "def process_request():\n",
    "    try:\n",
    "        model = request.form[\"model\"]\n",
    "        if model not in ml.loaded_models:\n",
    "            ml.load_balancer(model)\n",
    "        ml.increment_requests(model)\n",
    "        return \"processed by \" + ml.loaded_models[model][\"path\"]\n",
    "    except:\n",
    "        return str(traceback.format_exc())\n",
    "\n",
    "app.run(host='0.0.0.0', port=5000)\n"
   ]
  },
  {
   "cell_type": "code",
   "execution_count": null,
   "id": "0b496906",
   "metadata": {},
   "outputs": [],
   "source": []
  }
 ],
 "metadata": {
  "kernelspec": {
   "display_name": "Python 3 (ipykernel)",
   "language": "python",
   "name": "python3"
  },
  "language_info": {
   "codemirror_mode": {
    "name": "ipython",
    "version": 3
   },
   "file_extension": ".py",
   "mimetype": "text/x-python",
   "name": "python",
   "nbconvert_exporter": "python",
   "pygments_lexer": "ipython3",
   "version": "3.11.1"
  }
 },
 "nbformat": 4,
 "nbformat_minor": 5
}
