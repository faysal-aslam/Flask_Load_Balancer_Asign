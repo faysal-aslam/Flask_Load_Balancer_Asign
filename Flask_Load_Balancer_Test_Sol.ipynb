{
 "cells": [
  {
   "cell_type": "code",
   "execution_count": 7,
   "id": "6fbd81c8",
   "metadata": {},
   "outputs": [
    {
     "name": "stdout",
     "output_type": "stream",
     "text": [
      "Iteration  0\n",
      "Model car_detection : # requests 0\n",
      "Model face_detection : # requests 0\n",
      "New Model  cloth_detection\n",
      "------------\n",
      "Iteration  1\n",
      "Model car_detection : # requests 0\n",
      "Model cloth_detection : # requests 1\n",
      "New Model  water_level_detection\n",
      "------------\n",
      "Iteration  2\n",
      "Model cloth_detection : # requests 1\n",
      "Model water_level_detection : # requests 1\n",
      "New Model  water_level_detection\n",
      "------------\n",
      "Iteration  3\n",
      "Model cloth_detection : # requests 1\n",
      "Model water_level_detection : # requests 2\n",
      "New Model  face_detection\n",
      "------------\n",
      "Iteration  4\n",
      "Model face_detection : # requests 2\n",
      "Model water_level_detection : # requests 2\n",
      "New Model  signal_detection\n",
      "------------\n",
      "Iteration  5\n",
      "Model face_detection : # requests 2\n",
      "Model signal_detection : # requests 3\n",
      "New Model  signal_detection\n",
      "------------\n",
      "Iteration  6\n",
      "Model face_detection : # requests 2\n",
      "Model signal_detection : # requests 4\n",
      "New Model  car_detection\n",
      "------------\n",
      "Iteration  7\n",
      "Model car_detection : # requests 3\n",
      "Model signal_detection : # requests 4\n",
      "New Model  water_level_detection\n",
      "------------\n",
      "Iteration  8\n",
      "Model signal_detection : # requests 4\n",
      "Model water_level_detection : # requests 4\n",
      "New Model  car_detection\n",
      "------------\n",
      "Iteration  9\n",
      "Model car_detection : # requests 5\n",
      "Model water_level_detection : # requests 4\n",
      "New Model  car_detection\n",
      "------------\n"
     ]
    }
   ],
   "source": [
    "import requests\n",
    "from random import randint\n",
    "import json\n",
    "\n",
    "models =  [ \"face_detection\",\"car_detection\",\"shoe_detection\",\"cloth_detection\",\n",
    "            \"signal_detection\", \"water_level_detection\", \"missile_detection\" ]\n",
    "\n",
    "\n",
    "for i in range(10):\n",
    "    print('Iteration ', i)\n",
    "    model = models[randint(0,6)]\n",
    "    res = requests.get('http://127.0.0.1:5000/get_loaded_models')\n",
    "    res = json.loads(res.text)\n",
    "    for key, val in res.items():\n",
    "        print('Model {} : # requests {}'.format(key , val['requests']) )\n",
    "    print('New Model ', model)\n",
    "    print('------------')\n",
    "    res = requests.post('http://127.0.0.1:5000/process_request', data = {\"model\":model})"
   ]
  },
  {
   "cell_type": "code",
   "execution_count": null,
   "id": "524ba455",
   "metadata": {},
   "outputs": [],
   "source": [
    "Nas ja"
   ]
  }
 ],
 "metadata": {
  "kernelspec": {
   "display_name": "Python 3 (ipykernel)",
   "language": "python",
   "name": "python3"
  },
  "language_info": {
   "codemirror_mode": {
    "name": "ipython",
    "version": 3
   },
   "file_extension": ".py",
   "mimetype": "text/x-python",
   "name": "python",
   "nbconvert_exporter": "python",
   "pygments_lexer": "ipython3",
   "version": "3.11.1"
  }
 },
 "nbformat": 4,
 "nbformat_minor": 5
}
